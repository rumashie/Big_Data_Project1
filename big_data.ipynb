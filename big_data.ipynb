{
 "cells": [
  {
   "cell_type": "code",
   "execution_count": 1,
   "metadata": {},
   "outputs": [
    {
     "name": "stdout",
     "output_type": "stream",
     "text": [
      "Complete\n"
     ]
    }
   ],
   "source": [
    "import json\n",
    "from pymongo import MongoClient\n",
    "from bson import ObjectId\n",
    "\n",
    "# Connect to MongoDB\n",
    "client = MongoClient('mongodb://localhost:27017/')\n",
    "database = client['big_data']  \n",
    "inspections = database['inspections']\n",
    "\n",
    "\n",
    "inspections.drop()\n",
    "\n",
    "# Open JSON file and insert documents into MongoDB\n",
    "with open(\"city_inspections.json\", 'r') as f:\n",
    "    for line in f:\n",
    "        document = json.loads(line)\n",
    "        # Convert '_id' field to ObjectId\n",
    "        document['_id'] = ObjectId(document['_id']['$oid'])\n",
    "        inspections.insert_one(document)\n",
    "\n",
    "print(\"Complete\")\n"
   ]
  },
  {
   "cell_type": "code",
   "execution_count": 3,
   "metadata": {},
   "outputs": [
    {
     "name": "stdout",
     "output_type": "stream",
     "text": [
      "Total violations in Brooklyn: 26175\n",
      "Total violations in The Bronx: 12329\n",
      "\n",
      "Difference: 13846\n",
      "\n",
      "First five businesses in Brooklyn:\n",
      "1. NEW FINEST BUILDERS INC\n",
      "1320 E 55TH ST, BROOKLYN, 11234\n",
      "\n",
      "2. NADER R. ABDELREHIM\n",
      "51 NEWELL ST, BROOKLYN, 11222\n",
      "\n",
      "3. AWNING SERVICES\n",
      "450 PENNSYLVANIA AVE, BROOKLYN, 11207\n",
      "\n",
      "4. QADIR AHMAD\n",
      "1107 DORCHESTER RD, BROOKLYN, 11218\n",
      "\n",
      "5. GREENPOINT BARGAINS, INC\n",
      "211 MCGUINESS BLVD, BROOKLYN, \n",
      "\n",
      "First five businesses in Bronx:\n",
      "1. LISANDRO CABRERA\n",
      "2234 PALMER AVE, BRONX, 10475\n",
      "\n",
      "2. THE WAY FOR VETERANS CONTACTING COMPANY LLC.\n",
      "199 LINCOLN AVE, BRONX, 10454\n",
      "\n",
      "3. BABUL MOHAMMED\n",
      "1155 WALTON AVE, BRONX, 10452\n",
      "\n",
      "4. GREGORY WHITE\n",
      "1760 BRUCKNER BLVD, BRONX, 10473\n",
      "\n",
      "5. BABUL MOHAMMED\n",
      "1155 WALTON AVE, BRONX, 10452\n",
      "\n"
     ]
    }
   ],
   "source": [
    "brooklyn_violations = {\"address.city\": \"BROOKLYN\"}\n",
    "bronx_violations = {\"address.city\": \"BRONX\"}\n",
    "\n",
    "# Count violations for Brooklyn and Bronx\n",
    "brooklyn_total = inspections.count_documents(brooklyn_violations)\n",
    "bronx_total = inspections.count_documents(bronx_violations)\n",
    "\n",
    "# Print total violations in Brooklyn and Bronx\n",
    "print(\"Total violations in Brooklyn:\", brooklyn_total)\n",
    "print(\"Total violations in The Bronx:\", bronx_total)\n",
    "print()\n",
    "\n",
    "#Calculate the difference\n",
    "if brooklyn_total > bronx_total:\n",
    "    difference = brooklyn_total - bronx_total\n",
    "else:\n",
    "    difference = bronx_total - brooklyn_total\n",
    "\n",
    "print(\"Difference:\", difference)\n",
    "print()\n",
    "\n",
    "\n",
    "#Print 5 businessess for each City\n",
    "brooklyn_businesses = inspections.find(brooklyn_violations).limit(5)\n",
    "bronx_businesses = inspections.find(bronx_violations).limit(5)\n",
    "\n",
    "print(\"First five businesses in Brooklyn:\")\n",
    "for i, business in enumerate(brooklyn_businesses, start=1):\n",
    "    print(f\"{i}. {business['business_name']}\")\n",
    "    print(\"{number} {street}, {city}, {zip}\".format(**business['address']))\n",
    "    print()\n",
    "\n",
    "print(\"First five businesses in Bronx:\")\n",
    "for i, business in enumerate(bronx_businesses, start=1):\n",
    "    print(f\"{i}. {business['business_name']}\")\n",
    "    print(\"{number} {street}, {city}, {zip}\".format(**business['address']))\n",
    "    print()\n",
    "\n",
    "\n"
   ]
  },
  {
   "cell_type": "code",
   "execution_count": 4,
   "metadata": {},
   "outputs": [
    {
     "name": "stdout",
     "output_type": "stream",
     "text": [
      "The total number of business in 10452 : 622\n",
      "Randomly selected businesses:\n",
      "1. RITE AID OF NEW YORK, INC.\n",
      "2. ABOVE ALL WIRELESS, LLC\n",
      "3. CENIA FUNICELLO\n",
      "4. JEROME E Z STOP N GO\n",
      "5. KAAIED, JOSEPH M.\n"
     ]
    }
   ],
   "source": [
    "import random\n",
    "zip_code = input(\"Please Enter Zip Code to Search: \")\n",
    "\n",
    "if len(zip_code) != 5 or not zip_code.isdigit():\n",
    "    print(\"Zip-Code Not Found\")\n",
    "\n",
    "\n",
    "zip_code_int = int(zip_code)\n",
    "\n",
    "#Print total violations in that Zip-Code\n",
    "total = inspections.count_documents({\"address.zip\": zip_code_int})\n",
    "print(\"The total number of business in\", zip_code, \":\", total)\n",
    "\n",
    "#print 5 random businesses\n",
    "business_list = list(inspections.find({\"address.zip\": zip_code_int}))\n",
    "\n",
    "random_businesses = random.sample(business_list, 5)\n",
    "\n",
    "print(\"Randomly selected businesses:\")\n",
    "for i, business in enumerate(random_businesses, start=1):\n",
    "    print(f\"{i}. {business['business_name']}\")\n",
    "\n",
    "\n",
    "\n",
    "\n"
   ]
  }
 ],
 "metadata": {
  "kernelspec": {
   "display_name": "Python 3 (ipykernel)",
   "language": "python",
   "name": "python3"
  },
  "language_info": {
   "codemirror_mode": {
    "name": "ipython",
    "version": 3
   },
   "file_extension": ".py",
   "mimetype": "text/x-python",
   "name": "python",
   "nbconvert_exporter": "python",
   "pygments_lexer": "ipython3",
   "version": "3.12.2"
  }
 },
 "nbformat": 4,
 "nbformat_minor": 2
}
